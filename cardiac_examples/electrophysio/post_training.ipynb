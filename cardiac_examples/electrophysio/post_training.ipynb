{
 "cells": [
  {
   "cell_type": "code",
   "execution_count": null,
   "metadata": {},
   "outputs": [],
   "source": [
    "model_str = \"GINO\"  # or \"GNN\"\n",
    "\n",
    "import matplotlib.pyplot as plt\n",
    "from data_loading import load_dataset\n",
    "import torch\n",
    "from deepcardio.losses import LpLoss\n",
    "from deepcardio import ModelInference\n",
    "import numpy as np\n",
    "\n",
    "if model_str == \"GINO\":\n",
    "    from GINO.model import model\n",
    "    folder_path='./data_processed/data.pt'\n",
    "    from deepcardio.meshdata import BipartiteData\n",
    "    dataset_format=BipartiteData\n",
    "    save_dir = \"./GINO/ckpt/ckpt_16/\"\n",
    "    dataprocessor_path = \"./GINO/data_processor.pt\"\n",
    "    from GINO.gino_data_handling import single_case_handling\n",
    "\n",
    "elif model_str == \"GNN\":\n",
    "    from GNN.model import model\n",
    "    folder_path='./data_processed/data_GNN.pt'\n",
    "    from torch_geometric.data import Data\n",
    "    dataset_format=Data\n",
    "    save_dir = \"./GNN/ckpt/ckpt_64/\"\n",
    "    dataprocessor_path = \"./GNN/data_processor.pt\"\n",
    "    from GNN.gnn_data_handling import single_case_handling\n",
    "\n",
    "else:\n",
    "    raise ValueError(\"Only 'GINO' or 'GNN' can be passed.\")\n",
    "\n",
    "dltrain, dltest, data_processor = load_dataset(\n",
    "    model=model_str,\n",
    "    folder_path=folder_path,\n",
    "    train_batch_sizes=[1], test_batch_sizes=[1, 1],\n",
    "    use_distributed=False, dataset_format=dataset_format,\n",
    "    dataprocessor_dir='./')\n",
    "\n",
    "model_inference = ModelInference(\n",
    "    model=model,\n",
    "    model_checkpoint_path=save_dir + 'best_model_snapshot_dict.pt',\n",
    "    dataprocessor_path=dataprocessor_path,\n",
    "    single_case_handling=single_case_handling)\n",
    "\n",
    "\n",
    "l2loss = LpLoss(d=2, p=2, reductions='mean')\n",
    "\n",
    "train_loss = l2loss\n",
    "eval_losses={'l2': l2loss}\n",
    "\n",
    "print(f\"EPOCH: {model_inference.current_epoch}, LOSS: {model_inference.best_loss}\")\n",
    "model_inference.data_processor.training, model_inference.model.training"
   ]
  },
  {
   "cell_type": "code",
   "execution_count": null,
   "metadata": {},
   "outputs": [],
   "source": [
    "from deepcardio.neuralop_core.utils import count_model_params\n",
    "count_model_params(model)"
   ]
  },
  {
   "cell_type": "code",
   "execution_count": null,
   "metadata": {},
   "outputs": [],
   "source": [
    "import json\n",
    "from pathlib import Path\n",
    "with open(Path(save_dir).joinpath('metrics_dict.json').as_posix(), 'r') as f:\n",
    "    list_epoch_metrics = json.load(f)\n",
    "\n",
    "epochs = []\n",
    "training_losses = []\n",
    "test_losses = []\n",
    "\n",
    "for metrics_data in list_epoch_metrics:\n",
    "    epochs.append(metrics_data['epoch'])\n",
    "    training_losses.append(metrics_data['train_err'])\n",
    "    test_losses.append(metrics_data['0_l2'])\n",
    "    \n",
    "plt.plot(epochs, training_losses, label=\"Training\")\n",
    "plt.plot(epochs, test_losses, label=\"Validation\")\n",
    "plt.yscale(\"log\")\n",
    "plt.xlabel(\"Epochs\")\n",
    "plt.ylabel(\"Loss\")\n",
    "plt.legend()\n",
    "plt.show()"
   ]
  },
  {
   "cell_type": "code",
   "execution_count": null,
   "metadata": {},
   "outputs": [],
   "source": [
    "import glob\n",
    "import os\n",
    "folder_path = './data/interpolated'\n",
    "interpolated_losses = []\n",
    "vtk_files = []\n",
    "vtk_files.extend(glob.glob(os.path.join(folder_path, '*.vtk')))\n",
    "\n",
    "meshes = []\n",
    "for i, file in enumerate(vtk_files):\n",
    "    model_inference.predict(file)\n",
    "    output = model_inference.output.to('cuda')\n",
    "    model_inference.case_ID = model_inference.case_ID[:-4]\n",
    "    interpolated_loss = l2loss(output, **model_inference.sample).item()\n",
    "    torch.cuda.empty_cache()\n",
    "    interpolated_losses.append(interpolated_loss)\n",
    "plt.plot(interpolated_losses)\n",
    "plt.show()"
   ]
  },
  {
   "cell_type": "code",
   "execution_count": null,
   "metadata": {},
   "outputs": [],
   "source": [
    "print(torch.tensor(interpolated_losses).mean())\n",
    "torch.topk(torch.tensor(interpolated_losses), k=5)"
   ]
  },
  {
   "cell_type": "code",
   "execution_count": null,
   "metadata": {},
   "outputs": [],
   "source": [
    "np.save(\"./data_posttraining/interp_GINO.npy\", interpolated_losses)"
   ]
  },
  {
   "cell_type": "code",
   "execution_count": null,
   "metadata": {},
   "outputs": [],
   "source": [
    "train_losses = []\n",
    "for sample in dltrain[0]:\n",
    "    # if sample['n_pacings'] == 1:\n",
    "    #     continue\n",
    "    model_inference.predict(sample)\n",
    "    output = model_inference.output.to('cuda')\n",
    "    train_loss = l2loss(output, **sample).item()\n",
    "    torch.cuda.empty_cache()\n",
    "    train_losses.append(train_loss)\n",
    "plt.plot(train_losses)\n",
    "plt.show()"
   ]
  },
  {
   "cell_type": "code",
   "execution_count": null,
   "metadata": {},
   "outputs": [],
   "source": [
    "torch.tensor(train_losses).mean()"
   ]
  },
  {
   "cell_type": "code",
   "execution_count": null,
   "metadata": {},
   "outputs": [],
   "source": [
    "val_losses = []\n",
    "for sample in dltest[0]:\n",
    "    # if sample['n_pacings'] == 1:\n",
    "    #     continue\n",
    "    model_inference.predict(sample)\n",
    "    output = model_inference.output.to('cuda')\n",
    "    test_loss = l2loss(output, **sample).item()\n",
    "    torch.cuda.empty_cache()\n",
    "    val_losses.append(test_loss)\n",
    "plt.plot(val_losses)\n",
    "plt.show()\n"
   ]
  },
  {
   "cell_type": "code",
   "execution_count": null,
   "metadata": {},
   "outputs": [],
   "source": [
    "print(torch.tensor(val_losses).mean())\n",
    "torch.topk(torch.tensor(val_losses), k=5)"
   ]
  },
  {
   "cell_type": "code",
   "execution_count": null,
   "metadata": {},
   "outputs": [],
   "source": [
    "np.save(\"./data_posttraining/val_GINO.npy\", val_losses)"
   ]
  },
  {
   "cell_type": "code",
   "execution_count": null,
   "metadata": {},
   "outputs": [],
   "source": [
    "test_losses = []\n",
    "noise = 0.0\n",
    "for sample in dltest[1]:\n",
    "    sample['input_geom'] += torch.randn_like(sample['input_geom']) * (noise * sample['input_geom'].std())\n",
    "    f0 = sample['a'][:, :, 2:5]\n",
    "    sample['a'][:, :, 2:5] += torch.randn_like(f0) * (noise * f0.std())\n",
    "    output = model_inference.predict(sample)\n",
    "    test_loss = l2loss(output, **sample).item()\n",
    "    test_losses.append(test_loss)\n",
    "    torch.cuda.empty_cache()\n",
    "plt.plot(test_losses)\n",
    "plt.show()"
   ]
  },
  {
   "cell_type": "code",
   "execution_count": null,
   "metadata": {},
   "outputs": [],
   "source": [
    "torch.tensor(test_losses).mean()"
   ]
  },
  {
   "cell_type": "code",
   "execution_count": null,
   "metadata": {},
   "outputs": [],
   "source": [
    "np.save(\"./data_posttraining/test_GINO_withoutnoise.npy\", test_losses)"
   ]
  },
  {
   "cell_type": "code",
   "execution_count": null,
   "metadata": {},
   "outputs": [],
   "source": [
    "torch.topk(torch.tensor(test_losses), k=20)"
   ]
  },
  {
   "cell_type": "code",
   "execution_count": null,
   "metadata": {},
   "outputs": [],
   "source": [
    "import pandas as pd\n",
    "\n",
    "df = pd.DataFrame(columns=['Loss', 'n_pacings', 'max_tact'])\n",
    "\n",
    "for sample in dltest[1]:\n",
    "    loss = l2loss(model_inference.predict(sample), **sample).item()\n",
    "    n_pacings = sample['n_pacings'].cpu().numpy()\n",
    "    max_tact = sample['y'].max().cpu().numpy()\n",
    "    df.loc[len(df)] = [loss, n_pacings, max_tact]\n",
    "\n",
    "df.to_pickle('./data_posttraining/test_GNN_withoutnoise.pkl')"
   ]
  },
  {
   "cell_type": "code",
   "execution_count": null,
   "metadata": {},
   "outputs": [],
   "source": [
    "i = -1\n",
    "for sample in dltest[1]:\n",
    "    i += 1\n",
    "    if sample['n_pacings'] == 2 or sample['y'].max() < 120 or sample['y'].max() > 150:\n",
    "        continue\n",
    "    print(i, sample['label'], sample['n_pacings'], sample['y'].max(), l2loss(model_inference.predict(sample), **sample).item())"
   ]
  },
  {
   "cell_type": "code",
   "execution_count": null,
   "metadata": {},
   "outputs": [],
   "source": [
    "sample = dltest[1].dataset[1013]\n",
    "sample['label'], sample['n_pacings'], sample['y'].max(), l2loss(model_inference.predict(sample), **sample).item()"
   ]
  },
  {
   "cell_type": "code",
   "execution_count": null,
   "metadata": {},
   "outputs": [],
   "source": [
    "# Inverse problem\n",
    "import meshio\n",
    "def optimization_function_wrapper(x):\n",
    "    \"\"\"\n",
    "    This wraps the function for the inverse modeling\n",
    "    optimization problem.\n",
    "\n",
    "    Input:\n",
    "    - x: a numpy array represents [D_iso, x_l, x_c]\n",
    "\n",
    "    Output:\n",
    "    - loss: The loss of the optimization problem, returned as a\n",
    "    scalar numpy value\n",
    "    \"\"\"\n",
    "    ploc_pmtr = [x[1], x[2], 1]\n",
    "    geometry = meshio.read('./data/geometry' + sample['label'] + '.vtk')\n",
    "    pmtr_coord = np.concatenate((\n",
    "        geometry.point_data['x_l'],\n",
    "        geometry.point_data['x_c'],\n",
    "        geometry.point_data['x_t']), axis=1)\n",
    "\n",
    "    min_loc = np.argmin(np.linalg.norm(pmtr_coord - np.array(ploc_pmtr), axis=1))\n",
    "    ploc_xyz = geometry.points[min_loc].reshape((1, -1)) * 100\n",
    "\n",
    "\n",
    "    output = model_inference.predict(sample, Diso=x[0], plocs=ploc_xyz, r=0.55)\n",
    "\n",
    "    loss = l2loss(output, sample['y'])\n",
    "    return loss.item()\n",
    "\n",
    "from scipy.optimize import differential_evolution\n",
    "\n",
    "bounds = [(0.1, 2.), (0.15, .8), (-3., 3.)]\n",
    "\n",
    "result = differential_evolution(optimization_function_wrapper,\n",
    "                                        bounds,\n",
    "                                        seed=45,\n",
    "                                        popsize=50,\n",
    "                                        strategy='best1bin',\n",
    "                                        maxiter=100,\n",
    "                                        disp=True)\n",
    "\n",
    "result.x"
   ]
  },
  {
   "cell_type": "code",
   "execution_count": null,
   "metadata": {},
   "outputs": [],
   "source": [
    "# Ground truth\n",
    "0.12689291957489515\n",
    "[0.3247652436498567, -2.853311347773299]"
   ]
  },
  {
   "cell_type": "code",
   "execution_count": null,
   "metadata": {},
   "outputs": [],
   "source": [
    "# CRT Optimization\n",
    "def optimization_function_wrapper(x):\n",
    "    \"\"\"\n",
    "    This wraps the function for the inverse modeling\n",
    "    optimization problem.\n",
    "\n",
    "    Input:\n",
    "    - x: a numpy array represents [x_l2, x_c2]\n",
    "\n",
    "    Output:\n",
    "    - loss: The loss of the optimization problem, returned as a\n",
    "    scalar numpy value\n",
    "    \"\"\"\n",
    "    plocs_pmtr = [[result.x[1], result.x[2], 1], [x[0], x[1], 1]]\n",
    "    geometry = meshio.read('./data/geometry' + sample['label'] + '.vtk')\n",
    "    pmtr_coord = np.concatenate((\n",
    "        geometry.point_data['x_l'],\n",
    "        geometry.point_data['x_c'],\n",
    "        geometry.point_data['x_t']), axis=1)\n",
    "    \n",
    "    plocs_xyz = []\n",
    "    for ploc_ in plocs_pmtr:\n",
    "        min_loc = np.argmin(np.linalg.norm(pmtr_coord - np.array(ploc_), axis=1))\n",
    "        ploc_xyz = geometry.points[min_loc] * 100\n",
    "        plocs_xyz.append(ploc_xyz)\n",
    "\n",
    "    plocs_xyz = np.array(plocs_xyz)\n",
    "\n",
    "\n",
    "    output = model_inference.predict(sample, Diso=result.x[0], plocs=plocs_xyz, r=0.55)\n",
    "\n",
    "    return (output.max().item() - 135) ** 2\n",
    "\n",
    "bounds = [(0.15, .8), (-3., 3.)]\n",
    "\n",
    "result_CRT = differential_evolution(\n",
    "    optimization_function_wrapper,bounds,\n",
    "    seed=45,\n",
    "    popsize=50,\n",
    "    strategy='best1bin',\n",
    "    maxiter=100,\n",
    "    disp=True)\n",
    "\n",
    "result_CRT.x"
   ]
  },
  {
   "cell_type": "code",
   "execution_count": null,
   "metadata": {},
   "outputs": [],
   "source": [
    "result_CRT.fun"
   ]
  },
  {
   "cell_type": "code",
   "execution_count": null,
   "metadata": {},
   "outputs": [],
   "source": [
    "plocs_xyz = []\n",
    "\n",
    "plocs_pmtr = [[result.x[1], result.x[2], 1], [result_CRT.x[0], result_CRT.x[1], 1]]\n",
    "geometry = meshio.read('./data/geometry' + sample['label'] + '.vtk')\n",
    "pmtr_coord = np.concatenate((\n",
    "    geometry.point_data['x_l'],\n",
    "    geometry.point_data['x_c'],\n",
    "    geometry.point_data['x_t']), axis=1)\n",
    "\n",
    "for ploc_ in plocs_pmtr:\n",
    "    min_loc = np.argmin(np.linalg.norm(pmtr_coord - np.array(ploc_), axis=1))\n",
    "    ploc_xyz = geometry.points[min_loc] * 100\n",
    "    plocs_xyz.append(ploc_xyz)\n",
    "\n",
    "plocs_xyz = np.array(plocs_xyz)\n",
    "\n",
    "plocs_xyz"
   ]
  },
  {
   "cell_type": "code",
   "execution_count": null,
   "metadata": {},
   "outputs": [],
   "source": [
    "ploc_pmtr = [result.x[1], result.x[2], 1]\n",
    "geometry = meshio.read('./data/geometry' + sample['label'] + '.vtk')\n",
    "pmtr_coord = np.concatenate((\n",
    "    geometry.point_data['x_l'],\n",
    "    geometry.point_data['x_c'],\n",
    "    geometry.point_data['x_t']), axis=1)\n",
    "\n",
    "min_loc = np.argmin(np.linalg.norm(pmtr_coord - np.array(ploc_pmtr), axis=1))\n",
    "ploc_xyz = geometry.points[min_loc].reshape((1, -1)) * 100\n",
    "ploc_xyz"
   ]
  },
  {
   "cell_type": "code",
   "execution_count": null,
   "metadata": {},
   "outputs": [],
   "source": [
    "output = model_inference.predict(sample, Diso = result.x[0], plocs=plocs_xyz, r=0.55)"
   ]
  },
  {
   "cell_type": "code",
   "execution_count": null,
   "metadata": {},
   "outputs": [],
   "source": [
    "output.max()"
   ]
  },
  {
   "cell_type": "code",
   "execution_count": null,
   "metadata": {},
   "outputs": [],
   "source": [
    "i = 0\n",
    "for sample in dltest[1]:\n",
    "    if sample['label'] == ['35865']:\n",
    "        print(i)\n",
    "        break\n",
    "    i+=1\n"
   ]
  },
  {
   "cell_type": "code",
   "execution_count": null,
   "metadata": {},
   "outputs": [],
   "source": [
    "# 2701: 9709\n",
    "# 3260: 36214\n",
    "# 22: 26514 0.0108\n",
    "# 37: 18362 0.0079\n",
    "\n",
    "# 4170: 7963 0.0102"
   ]
  },
  {
   "cell_type": "code",
   "execution_count": null,
   "metadata": {},
   "outputs": [],
   "source": [
    "sample = dltest[1].dataset[90]\n",
    "sample['label'], sample['n_pacings'], sample['y'].max(), l2loss(model_inference.predict(sample), **sample).item()"
   ]
  },
  {
   "cell_type": "code",
   "execution_count": null,
   "metadata": {},
   "outputs": [],
   "source": [
    "import meshio\n",
    "def set_rand_pacingsites(sample, rand):\n",
    "    np.random.seed(rand)\n",
    "    x_l = np.random.uniform(0.15, 0.8)\n",
    "    x_c = np.random.uniform(-3, 3)\n",
    "    x_c_2 = np.random.uniform(-3, 3)\n",
    "    plocs_pmtr = [[x_l, x_c, 1], [x_l, x_c_2, 1]]\n",
    "    geometry = meshio.read('../data/geometry_case' + sample['label'] + '.vtk')\n",
    "    pmtr_coord = np.concatenate((\n",
    "        geometry.point_data['x_l'],\n",
    "        geometry.point_data['x_c'],\n",
    "        geometry.point_data['x_t']), axis=1)\n",
    "\n",
    "    plocs_xyz = []\n",
    "    for ploc_ in plocs_pmtr:\n",
    "        min_loc = np.argmin(np.linalg.norm(pmtr_coord - np.array(ploc_), axis=1))\n",
    "        ploc_xyz = geometry.points[min_loc] * 100\n",
    "        plocs_xyz.append(ploc_xyz)\n",
    "\n",
    "    plocs_xyz = np.array(plocs_xyz)\n",
    "\n",
    "    new_sample = model_inference.set_pacingsite(sample, plocs_xyz, r = [.55, .55])\n",
    "    del new_sample['y']\n",
    "    return new_sample\n"
   ]
  },
  {
   "cell_type": "code",
   "execution_count": null,
   "metadata": {},
   "outputs": [],
   "source": [
    "t_act_min = 200\n",
    "t_act_max = 10\n",
    "for i in range(1000):\n",
    "    new_sample = set_rand_pacingsites(sample, 1000 + i)\n",
    "    output = model_inference.predict(new_sample)\n",
    "    if output.max() > t_act_max:\n",
    "        if output.max() > 131:\n",
    "            continue\n",
    "        t_act_max = output.max()\n",
    "        model_inference.write_xdmf(\n",
    "            inp=sample,\n",
    "            mesh_directory='./data/mesh/case',\n",
    "            xdmf_directory='./GINO/results/xdmf/maxcase')\n",
    "    if output.max() < t_act_min:\n",
    "        t_act_min = output.max()\n",
    "        model_inference.write_xdmf(\n",
    "            inp=sample,\n",
    "            mesh_directory='./data/mesh/case',\n",
    "            xdmf_directory='./GINO/results/xdmf/mincase')\n",
    "        \n",
    "    "
   ]
  },
  {
   "cell_type": "code",
   "execution_count": null,
   "metadata": {},
   "outputs": [],
   "source": [
    "meshfile = './data/mesh/case'\n",
    "xdmffile = './GINO/results/xdmf/case'\n",
    "\n",
    "# output = model_inference.predict(sample)\n",
    "model_inference.write_xdmf(\n",
    "    inp=sample,\n",
    "    mesh_directory=meshfile,\n",
    "    xdmf_directory=xdmffile)"
   ]
  }
 ],
 "metadata": {
  "kernelspec": {
   "display_name": "neuralop",
   "language": "python",
   "name": "python3"
  },
  "language_info": {
   "codemirror_mode": {
    "name": "ipython",
    "version": 3
   },
   "file_extension": ".py",
   "mimetype": "text/x-python",
   "name": "python",
   "nbconvert_exporter": "python",
   "pygments_lexer": "ipython3",
   "version": "3.12.9"
  }
 },
 "nbformat": 4,
 "nbformat_minor": 2
}
