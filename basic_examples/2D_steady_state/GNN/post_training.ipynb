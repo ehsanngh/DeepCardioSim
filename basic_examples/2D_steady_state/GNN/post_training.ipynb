{
 "cells": [
  {
   "cell_type": "code",
   "execution_count": null,
   "metadata": {},
   "outputs": [],
   "source": [
    "import matplotlib.pyplot as plt\n",
    "from data_loading import load_dataset_graph\n",
    "from deepcardio.utils import plot_tri\n",
    "import torch\n",
    "from deepcardio.losses import LpLoss, H1Loss\n",
    "\n",
    "dltrain, dltest, data_processor = load_dataset_graph(\n",
    "    folder_path='../data', train_batch_sizes=[10], test_batch_sizes=[10])\n",
    "\n",
    "device = 'cuda' if torch.cuda.is_available() else 'cpu'\n",
    "data_processor = data_processor.to(device)\n",
    "\n",
    "l2loss = LpLoss(d=2, p=2)\n",
    "h1loss = H1Loss(d=2)\n",
    "\n",
    "train_loss = l2loss\n",
    "eval_losses={'l2': l2loss}\n",
    "\n",
    "from gnn_model import KernelNN\n",
    "model = KernelNN(node_prj_dim=32, edge_prj_dim=24, num_layers=6, edge_attrs_dim=3, node_ftrs_dim=5, out_dim=1)\n",
    "model = model.to(device)"
   ]
  },
  {
   "cell_type": "code",
   "execution_count": null,
   "metadata": {},
   "outputs": [],
   "source": [
    "from pathlib import Path\n",
    "import json\n",
    "save_dir = Path('./ckpt/')\n",
    "with open(save_dir.joinpath('metrics_dict.json').as_posix(), 'r') as f:\n",
    "    list_epoch_metrics = json.load(f)\n",
    "\n",
    "epochs = []\n",
    "training_losses = []\n",
    "test_losses = []\n",
    "\n",
    "for metrics_data in list_epoch_metrics:\n",
    "    epochs.append(metrics_data['epoch'])\n",
    "    training_losses.append(metrics_data['avg_loss'])\n",
    "    test_losses.append(metrics_data['0_l2'])\n",
    "\n",
    "plt.plot(epochs, training_losses)\n",
    "plt.plot(epochs, test_losses)\n",
    "plt.show()"
   ]
  },
  {
   "cell_type": "code",
   "execution_count": null,
   "metadata": {},
   "outputs": [],
   "source": [
    "model.load_state_dict(torch.load('ckpt/model_snapshot_dict.pt', map_location='cpu')['MODEL_STATE'])\n",
    "data_processor.eval()\n",
    "data_processor.training"
   ]
  },
  {
   "cell_type": "code",
   "execution_count": null,
   "metadata": {},
   "outputs": [],
   "source": [
    "test_losses = []\n",
    "for sample in dltest[0].dataset:\n",
    "    sample = data_processor.preprocess(sample)\n",
    "    output = model(**sample)\n",
    "    output, sample = data_processor.postprocess(output, sample)\n",
    "    test_loss = l2loss(output, sample['y']).item()\n",
    "    test_losses.append(test_loss)\n",
    "\n",
    "plt.plot(test_losses)\n",
    "plt.show()"
   ]
  },
  {
   "cell_type": "code",
   "execution_count": null,
   "metadata": {},
   "outputs": [],
   "source": [
    "test_losses[230:240]"
   ]
  },
  {
   "cell_type": "code",
   "execution_count": null,
   "metadata": {},
   "outputs": [],
   "source": [
    "sample = dltest[0].dataset[230]\n",
    "sample['label']"
   ]
  },
  {
   "cell_type": "code",
   "execution_count": null,
   "metadata": {},
   "outputs": [],
   "source": [
    "from matplotlib.tri import Triangulation\n",
    "import numpy as np\n",
    "sample = data_processor.preprocess(sample)\n",
    "output = model(**sample)\n",
    "pos = sample['pos'].detach().cpu()\n",
    "cells = np.load('../data/cells/case_ID_140.npy')\n",
    "triang = Triangulation(pos[:, 0], pos[:, 1], cells)\n",
    "output, sample = data_processor.postprocess(output, sample)\n",
    "plot_tri(triang, sample['y'].cpu())\n",
    "plot_tri(triang, output.detach().cpu())\n",
    "plot_tri(triang, (output.detach().cpu() - sample['y'].detach().cpu()).abs() / sample['y'].detach().cpu().max())"
   ]
  }
 ],
 "metadata": {
  "kernelspec": {
   "display_name": "dcs",
   "language": "python",
   "name": "python3"
  },
  "language_info": {
   "codemirror_mode": {
    "name": "ipython",
    "version": 3
   },
   "file_extension": ".py",
   "mimetype": "text/x-python",
   "name": "python",
   "nbconvert_exporter": "python",
   "pygments_lexer": "ipython3",
   "version": "3.12.5"
  }
 },
 "nbformat": 4,
 "nbformat_minor": 2
}
