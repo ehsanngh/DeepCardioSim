{
 "cells": [
  {
   "cell_type": "code",
   "execution_count": null,
   "metadata": {},
   "outputs": [],
   "source": [
    "case_ID = 0\n",
    "\n",
    "from pathlib import Path\n",
    "import gmsh\n",
    "from mpi4py import MPI\n",
    "from dolfinx.io import gmshio\n",
    "import numpy as np\n",
    "import matplotlib.pyplot as plt\n",
    "\n",
    "gmsh.initialize()\n",
    "gmsh.model.add(\"geometry\")\n",
    "\n",
    "L1, L2, L3, L4 = 2, 2., 2, 2.\n",
    "h, w = 2., 2\n",
    "\n",
    "p1 = gmsh.model.geo.addPoint(-L1/2, -L4/2, 0, meshSize=0.2)\n",
    "p2 = gmsh.model.geo.addPoint(0, -h/2, 0, meshSize=0.2)\n",
    "p3 = gmsh.model.geo.addPoint(L1/2, -L2/2, 0, meshSize=0.2)\n",
    "p4 = gmsh.model.geo.addPoint(w/2, 0, 0, meshSize=0.2)\n",
    "p5 = gmsh.model.geo.addPoint(L3/2, L2/2, 0, meshSize=0.2)\n",
    "p6 = gmsh.model.geo.addPoint(0, h/2, 0, meshSize=0.2)\n",
    "p7 = gmsh.model.geo.addPoint(-L3/2, L4/2, 0, meshSize=0.2)\n",
    "p8 = gmsh.model.geo.addPoint(-w/2, 0, 0, meshSize=0.2)\n",
    "\n",
    "l1 = gmsh.model.geo.add_bspline([p1, p2, p3])\n",
    "l2 = gmsh.model.geo.add_bspline([p3, p4, p5])\n",
    "l3 = gmsh.model.geo.add_bspline([p5, p6, p7])\n",
    "l4 = gmsh.model.geo.add_bspline([p7, p8, p1])\n",
    "\n",
    "curve_loop = gmsh.model.geo.addCurveLoop([l1, l2, l3, l4])\n",
    "surface = gmsh.model.geo.addPlaneSurface([curve_loop])\n",
    "\n",
    "gmsh.model.geo.synchronize()\n",
    "\n",
    "bottom_tag_num, left_tag_num, top_tag_num, right_tag_num, interior_tag_num = 1, 2, 3, 4, 5\n",
    "\n",
    "gmsh.model.addPhysicalGroup(1, [l1], bottom_tag_num, name=\"bottom\")\n",
    "gmsh.model.addPhysicalGroup(1, [l2], left_tag_num, name=\"left\")\n",
    "gmsh.model.addPhysicalGroup(1, [l3], top_tag_num, name=\"top\")\n",
    "gmsh.model.addPhysicalGroup(1, [l4], right_tag_num, name=\"right\")\n",
    "gmsh.model.addPhysicalGroup(2, [surface], interior_tag_num, name=\"interior\")\n",
    "\n",
    "gmsh.model.mesh.generate(2)\n",
    "\n",
    "mesh_folder = Path(\"./paraview\") / f\"case_ID_{case_ID}\"\n",
    "mesh_folder.mkdir(exist_ok=True, parents=True)\n",
    "gmsh.write(str(mesh_folder) + \"/mesh.vtk\")\n",
    "\n",
    "domain, cell_tags, facet_tags = gmshio.model_to_mesh(gmsh.model, MPI.COMM_WORLD, 0, gdim=2)\n",
    "\n",
    "gmsh.finalize()"
   ]
  },
  {
   "cell_type": "code",
   "execution_count": null,
   "metadata": {},
   "outputs": [],
   "source": [
    "from matplotlib.tri import Triangulation\n",
    "\n",
    "points = domain.geometry.x\n",
    "cells = domain.topology.connectivity(2, 0).array.reshape((-1, 3))\n",
    "\n",
    "# Plot the mesh using Matplotlib\n",
    "plt.figure(figsize=(8, 6))\n",
    "triang = Triangulation(points[:, 0], points[:, 1], cells)\n",
    "plt.triplot(triang, color=\"black\")\n",
    "plt.gca().set_aspect('equal')\n",
    "plt.title(\"2D Geometry Mesh\")\n",
    "plt.xlabel(\"$x_1$\")\n",
    "plt.ylabel(\"$x_2$\")\n",
    "plt.show()"
   ]
  },
  {
   "cell_type": "code",
   "execution_count": null,
   "metadata": {},
   "outputs": [],
   "source": [
    "tdim = domain.topology.dim\n",
    "fdim = tdim - 1\n",
    "domain.topology.create_connectivity(fdim, tdim)"
   ]
  },
  {
   "cell_type": "code",
   "execution_count": null,
   "metadata": {},
   "outputs": [],
   "source": [
    "from dolfinx import fem, default_scalar_type\n",
    "import ufl\n",
    "V = fem.functionspace(domain, (\"Lagrange\", 1))\n",
    "x = ufl.SpatialCoordinate(domain)\n",
    "\n",
    "u_ex = 1 + x[0]**2 * x[1] + 2 * x[0] * x[1]**2\n",
    "\n",
    "uD = fem.Function(V)\n",
    "uD.interpolate(fem.Expression(u_ex, V.element.interpolation_points()))\n",
    "src_term = -(4* x[0] + 2 * x[1])\n",
    "\n",
    "\n",
    "dofs_bottom_b = fem.locate_dofs_topological(V, fdim, facet_tags.find(bottom_tag_num))\n",
    "dofs_left_b = fem.locate_dofs_topological(V, fdim, facet_tags.find(left_tag_num))\n",
    "dofs_top_b = fem.locate_dofs_topological(V, fdim, facet_tags.find(top_tag_num))\n",
    "dofs_right_b = fem.locate_dofs_topological(V, fdim, facet_tags.find(right_tag_num))\n",
    "\n",
    "dofs_drchlt_BC = np.concatenate([dofs_left_b, dofs_right_b])\n",
    "dofs_neumnn_BC = np.concatenate([dofs_bottom_b, dofs_top_b])\n",
    "\n",
    "drchlt_bc = fem.dirichletbc(uD, dofs_drchlt_BC)\n"
   ]
  },
  {
   "cell_type": "code",
   "execution_count": null,
   "metadata": {},
   "outputs": [],
   "source": [
    "n = ufl.FacetNormal(domain)\n",
    "g_bottom = (x[0] ** 2 + 4 * x[0] * x[1])\n",
    "g_top = -(x[0] ** 2 + 4 * x[0] * x[1])\n",
    "ds = ufl.Measure(\"ds\", domain=domain, subdomain_data=facet_tags)"
   ]
  },
  {
   "cell_type": "code",
   "execution_count": null,
   "metadata": {},
   "outputs": [],
   "source": [
    "u = ufl.TrialFunction(V)\n",
    "v = ufl.TestFunction(V)"
   ]
  },
  {
   "cell_type": "code",
   "execution_count": null,
   "metadata": {},
   "outputs": [],
   "source": [
    "a = ufl.dot(ufl.grad(u), ufl.grad(v)) * ufl.dx\n",
    "L = src_term * v * ufl.dx - g_bottom * v * ds(bottom_tag_num) - g_top * v * ds(top_tag_num)"
   ]
  },
  {
   "cell_type": "code",
   "execution_count": null,
   "metadata": {},
   "outputs": [],
   "source": [
    "from dolfinx.fem.petsc import LinearProblem\n",
    "problem = LinearProblem(\n",
    "    a, L, bcs=[drchlt_bc], \n",
    "    petsc_options={\"ksp_type\": \"preonly\",\n",
    "                   \"pc_type\": \"lu\",\n",
    "                   \"ksp_monitor\": None})\n",
    "uh = problem.solve()"
   ]
  },
  {
   "cell_type": "code",
   "execution_count": null,
   "metadata": {},
   "outputs": [],
   "source": [
    "V2 = fem.functionspace(domain, (\"Lagrange\", 2))\n",
    "uex = fem.Function(V2)\n",
    "uex.interpolate(lambda x: 1 + x[0]**2 * x[1] + 2 * x[0] * x[1]**2)\n",
    "\n",
    "L2_error = fem.form(ufl.inner(uh - uex, uh - uex) * ufl.dx)\n",
    "error_local = fem.assemble_scalar(L2_error)\n",
    "error_L2 = np.sqrt(domain.comm.allreduce(error_local, op=MPI.SUM))\n",
    "\n",
    "error_max = np.max(np.abs(uD.x.array-uh.x.array))\n",
    "if domain.comm.rank == 0:\n",
    "    print(f\"Error_L2 : {error_L2:.2e}\")\n",
    "    print(f\"Error_max : {error_max:.2e}\")"
   ]
  },
  {
   "cell_type": "code",
   "execution_count": null,
   "metadata": {},
   "outputs": [],
   "source": [
    "udiff = fem.Function(V)\n",
    "udiff.vector.setArray(np.abs(uh.vector.getArray() - uD.vector.getArray()) / (uh.vector.getArray()).max())"
   ]
  },
  {
   "cell_type": "code",
   "execution_count": null,
   "metadata": {},
   "outputs": [],
   "source": [
    "triang = Triangulation(points[:, 0], points[:, 1], cells)\n",
    "\n",
    "plt.figure(figsize=(8, 6))\n",
    "tripcolor_plot = plt.tripcolor(triang, uh.vector.getArray(), shading='gouraud')\n",
    "plt.triplot(triang, color='black', linewidth=0.5)\n",
    "plt.gca().set_aspect('equal')\n",
    "plt.title(\"uh\")\n",
    "plt.xlabel(\"$x_1$\")\n",
    "plt.ylabel(\"$x_2$\")\n",
    "plt.colorbar(tripcolor_plot)\n",
    "plt.show()\n",
    "\n",
    "plt.figure(figsize=(8, 6))\n",
    "tripcolor_plot = plt.tripcolor(triang, uD.vector.getArray(), shading='gouraud')\n",
    "plt.triplot(triang, color='black', linewidth=0.5)\n",
    "plt.gca().set_aspect('equal')\n",
    "plt.title(\"uD\")\n",
    "plt.xlabel(\"$x_1$\")\n",
    "plt.ylabel(\"$x_2$\")\n",
    "plt.colorbar(tripcolor_plot)\n",
    "plt.show()\n",
    "\n",
    "plt.figure(figsize=(8, 6))\n",
    "tripcolor_plot = plt.tripcolor(triang, udiff.vector.getArray(), shading='gouraud')\n",
    "plt.triplot(triang, color='black', linewidth=0.5)\n",
    "plt.gca().set_aspect('equal')\n",
    "plt.title(\"udiff\")\n",
    "plt.xlabel(\"$x_1$\")\n",
    "plt.ylabel(\"$x_2$\")\n",
    "plt.colorbar(tripcolor_plot)\n",
    "plt.show()"
   ]
  },
  {
   "cell_type": "code",
   "execution_count": null,
   "metadata": {},
   "outputs": [],
   "source": [
    "drchlt_bool = np.zeros(points.shape[0])\n",
    "neumnn_bool = np.zeros(points.shape[0])\n",
    "drchlt_bool[dofs_drchlt_BC] = 1.\n",
    "neumnn_bool[dofs_neumnn_BC] = 1.\n",
    "data = np.concatenate(\n",
    "    [points[:, 0].reshape((-1, 1)),\n",
    "     points[:, 1].reshape((-1, 1)),\n",
    "     drchlt_bool.reshape((-1, 1)),\n",
    "     neumnn_bool.reshape((-1, 1)),\n",
    "     uh.vector.getArray().reshape((-1, 1))], axis=1)\n",
    "\n",
    "data_folder = Path(\"./data\")\n",
    "data_folder.mkdir(exist_ok=True, parents=True)\n",
    "filename = data_folder / f\"case_ID_{case_ID}\"\n",
    "\n",
    "np.save(filename, data)"
   ]
  },
  {
   "cell_type": "code",
   "execution_count": null,
   "metadata": {},
   "outputs": [],
   "source": [
    "from dolfinx import io\n",
    "results_folder = Path(\"./paraview\") / f\"case_ID_{case_ID}\"\n",
    "results_folder.mkdir(exist_ok=True, parents=True)\n",
    "filename = results_folder / f\"case_ID_{case_ID}\"\n",
    "\n",
    "with io.XDMFFile(domain.comm, filename.with_suffix(\".xdmf\"), \"w\") as xdmf:\n",
    "    xdmf.write_mesh(domain)\n",
    "    xdmf.write_function(udiff)"
   ]
  }
 ],
 "metadata": {
  "kernelspec": {
   "display_name": "Python 3",
   "language": "python",
   "name": "python3"
  },
  "language_info": {
   "codemirror_mode": {
    "name": "ipython",
    "version": 3
   },
   "file_extension": ".py",
   "mimetype": "text/x-python",
   "name": "python",
   "nbconvert_exporter": "python",
   "pygments_lexer": "ipython3",
   "version": "3.10.12"
  }
 },
 "nbformat": 4,
 "nbformat_minor": 2
}
