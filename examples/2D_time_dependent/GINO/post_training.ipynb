{
 "cells": [
  {
   "cell_type": "code",
   "execution_count": null,
   "metadata": {},
   "outputs": [],
   "source": [
    "import matplotlib.pyplot as plt\n",
    "from data_loading import load_dataset_gino\n",
    "from deepcardio.utils import plot_tri, create_gif_tri\n",
    "import torch\n",
    "from deepcardio.losses import LpLoss, H1Loss\n",
    "\n",
    "dltrain, dltest, data_processor = load_dataset_gino(\n",
    "    folder_path='../data', train_batch_sizes=[10], test_batch_sizes=[10])\n",
    "\n",
    "device = 'cuda' if torch.cuda.is_available() else 'cpu'\n",
    "data_processor = data_processor.to(device)\n",
    "\n",
    "l2loss = LpLoss(d=2, p=2)\n",
    "h1loss = H1Loss(d=2)\n",
    "\n",
    "train_loss = l2loss\n",
    "eval_losses={'l2': l2loss}\n",
    "\n",
    "from gino import GINO\n",
    "model = GINO(\n",
    "    in_channels=3,  # [dr_bl, nm_bl, src_trm]\n",
    "    out_channels=1,\n",
    "    gno_coord_dim=2,\n",
    "    gno_coord_embed_dim=16,\n",
    "    gno_radius=0.1,\n",
    "    gno_transform_type='linear',\n",
    "    fno_n_modes=[16, 16, 16],\n",
    "    fno_hidden_channels=64,\n",
    "    fno_use_mlp=True,\n",
    "    fno_norm='instance_norm',\n",
    "    fno_ada_in_features=32,\n",
    "    fno_factorization='tucker',\n",
    "    fno_rank=0.4,\n",
    "    fno_domain_padding=0.125,\n",
    "    fno_mlp_expansion=1.0,\n",
    "    fno_output_scaling_factor=1,\n",
    ")\n",
    "model = model.to(device)\n",
    "model.load_state_dict(torch.load('ckpt/model_snapshot_dict.pt', map_location='cpu', weights_only=False)['MODEL_STATE'])\n",
    "data_processor.eval()\n",
    "data_processor.training"
   ]
  },
  {
   "cell_type": "code",
   "execution_count": null,
   "metadata": {},
   "outputs": [],
   "source": [
    "from pathlib import Path\n",
    "import json\n",
    "save_dir = Path('./ckpt/')\n",
    "with open(save_dir.joinpath('metrics_dict.json').as_posix(), 'r') as f:\n",
    "    list_epoch_metrics = json.load(f)\n",
    "\n",
    "epochs = []\n",
    "training_losses = []\n",
    "test_losses = []\n",
    "\n",
    "for metrics_data in list_epoch_metrics:\n",
    "    epochs.append(metrics_data['epoch'])\n",
    "    training_losses.append(metrics_data['avg_loss'])\n",
    "    test_losses.append(metrics_data['0_l2'])\n",
    "\n",
    "plt.plot(epochs, training_losses)\n",
    "plt.plot(epochs, test_losses)\n",
    "plt.show()"
   ]
  },
  {
   "cell_type": "code",
   "execution_count": null,
   "metadata": {},
   "outputs": [],
   "source": [
    "test_losses = []\n",
    "for sample in dltest[0].dataset:\n",
    "    sample = data_processor.preprocess(sample)\n",
    "    output = model(**sample)\n",
    "    output, sample = data_processor.postprocess(output, sample)\n",
    "    test_loss = l2loss(output, sample['y']).item()\n",
    "    test_losses.append(test_loss)\n",
    "\n",
    "plt.plot(test_losses)\n",
    "plt.show()\n"
   ]
  },
  {
   "cell_type": "code",
   "execution_count": null,
   "metadata": {},
   "outputs": [],
   "source": [
    "test_losses[130:140]"
   ]
  },
  {
   "cell_type": "code",
   "execution_count": null,
   "metadata": {},
   "outputs": [],
   "source": [
    "sample = dltest[0].dataset[138]\n",
    "sample['label']"
   ]
  },
  {
   "cell_type": "code",
   "execution_count": null,
   "metadata": {},
   "outputs": [],
   "source": [
    "sample = data_processor.preprocess(sample)\n",
    "output = model(**sample)\n",
    "output, sample = data_processor.postprocess(output, sample)"
   ]
  },
  {
   "cell_type": "code",
   "execution_count": null,
   "metadata": {},
   "outputs": [],
   "source": [
    "from matplotlib.tri import Triangulation\n",
    "import numpy as np\n",
    "pos = sample['input_geom'].detach().cpu()\n",
    "cells = np.load('../data/cells/case_ID_481.npy')\n",
    "triang = Triangulation(pos[:, 0], pos[:, 1], cells)\n",
    "\n",
    "t = 50\n",
    "plot_tri(triang, sample['y'][:, t].cpu())\n",
    "plot_tri(triang, output[:, t].detach().cpu())\n",
    "plot_tri(triang, (output[:, t].detach().cpu() - sample['y'][:, t].detach().cpu()).abs() / sample['y'][:, t].detach().cpu().max())"
   ]
  },
  {
   "cell_type": "code",
   "execution_count": null,
   "metadata": {},
   "outputs": [],
   "source": [
    "y = sample['y'].cpu()\n",
    "yhat = output.detach().cpu()\n",
    "RMAE = (output.detach().cpu() - \\\n",
    "        sample['y'].detach().cpu()).abs() / sample['y'].detach().cpu().max()\n",
    "\n",
    "create_gif_tri(triang, y, save_dir='results/y/')\n",
    "create_gif_tri(triang, yhat, save_dir='results/output/')\n",
    "create_gif_tri(triang, RMAE, save_dir='results/error/')\n",
    "\n"
   ]
  }
 ],
 "metadata": {
  "kernelspec": {
   "display_name": "neuralop",
   "language": "python",
   "name": "python3"
  },
  "language_info": {
   "codemirror_mode": {
    "name": "ipython",
    "version": 3
   },
   "file_extension": ".py",
   "mimetype": "text/x-python",
   "name": "python",
   "nbconvert_exporter": "python",
   "pygments_lexer": "ipython3",
   "version": "3.12.5"
  }
 },
 "nbformat": 4,
 "nbformat_minor": 2
}
